{
  "nbformat": 4,
  "nbformat_minor": 0,
  "metadata": {
    "colab": {
      "provenance": [],
      "authorship_tag": "ABX9TyMalWYSKIe2IYa8AryIDnHZ",
      "include_colab_link": true
    },
    "kernelspec": {
      "name": "python3",
      "display_name": "Python 3"
    },
    "language_info": {
      "name": "python"
    }
  },
  "cells": [
    {
      "cell_type": "markdown",
      "metadata": {
        "id": "view-in-github",
        "colab_type": "text"
      },
      "source": [
        "<a href=\"https://colab.research.google.com/github/SambadRupakheti/Data-Scraping/blob/main/Data_Scraping.ipynb\" target=\"_parent\"><img src=\"https://colab.research.google.com/assets/colab-badge.svg\" alt=\"Open In Colab\"/></a>"
      ]
    },
    {
      "cell_type": "code",
      "execution_count": null,
      "metadata": {
        "colab": {
          "base_uri": "https://localhost:8080/"
        },
        "id": "3fvIAD-jJ7tc",
        "outputId": "0a45528a-f233-42d3-ff2d-6a76a1a0c132"
      },
      "outputs": [
        {
          "output_type": "stream",
          "name": "stdout",
          "text": [
            "Title: A guide to machine learning for biologists.\n",
            "Authors: Greener JG, Kandathil SM, Moffat L, Jones DT.\n",
            "Journal: Nat Rev Mol Cell Biol. 2022 Jan;23(1):40-55. doi: 10.1038/s41580-021-00407-0. Epub 2021 Sep 13.\n",
            "--------------------------------------------------\n",
            "Title: Machine Learning in Medicine.\n",
            "Authors: Deo RC.\n",
            "Journal: Circulation. 2015 Nov 17;132(20):1920-30. doi: 10.1161/CIRCULATIONAHA.115.001593.\n",
            "--------------------------------------------------\n",
            "Title: Introduction to Machine Learning, Neural Networks, and Deep Learning.\n",
            "Authors: Choi RY, Coyner AS, Kalpathy-Cramer J, Chiang MF, Campbell JP.\n",
            "Journal: Transl Vis Sci Technol. 2020 Feb 27;9(2):14. doi: 10.1167/tvst.9.2.14.\n",
            "--------------------------------------------------\n",
            "Title: eDoctor: machine learning and the future of medicine.\n",
            "Authors: Handelman GS, Kok HK, Chandra RV, Razavi AH, Lee MJ, Asadi H.\n",
            "Journal: J Intern Med. 2018 Dec;284(6):603-619. doi: 10.1111/joim.12822. Epub 2018 Sep 3.\n",
            "--------------------------------------------------\n",
            "Title: Machine learning for cardiology.\n",
            "Authors: Arfat Y, Mittone G, Esposito R, Cantalupo B, DE Ferrari GM, Aldinucci M.\n",
            "Journal: Minerva Cardiol Angiol. 2022 Feb;70(1):75-91. doi: 10.23736/S2724-5683.21.05709-4. Epub 2021 Aug 2.\n",
            "--------------------------------------------------\n",
            "Title: Supervised Machine Learning: A Brief Primer.\n",
            "Authors: Jiang T, Gradus JL, Rosellini AJ.\n",
            "Journal: Behav Ther. 2020 Sep;51(5):675-687. doi: 10.1016/j.beth.2020.05.002. Epub 2020 May 16.\n",
            "--------------------------------------------------\n",
            "Title: Machine learning model for predicting malaria using clinical information.\n",
            "Authors: Lee YW, Choi JW, Shin EH.\n",
            "Journal: Comput Biol Med. 2021 Feb;129:104151. doi: 10.1016/j.compbiomed.2020.104151. Epub 2020 Nov 28.\n",
            "--------------------------------------------------\n",
            "Title: A Review on Machine Learning for EEG Signal Processing in Bioengineering.\n",
            "Authors: Hosseini MP, Hosseini A, Ahi K.\n",
            "Journal: IEEE Rev Biomed Eng. 2021;14:204-218. doi: 10.1109/RBME.2020.2969915. Epub 2021 Jan 22.\n",
            "--------------------------------------------------\n",
            "Title: Review of machine learning and deep learning models for toxicity prediction.\n",
            "Authors: Guo W, Liu J, Dong F, Song M, Li Z, Khan MKH, Patterson TA, Hong H.\n",
            "Journal: Exp Biol Med (Maywood). 2023 Nov;248(21):1952-1973. doi: 10.1177/15353702231209421. Epub 2023 Dec 6.\n",
            "--------------------------------------------------\n",
            "Title: Machine learning for clinical decision support in infectious diseases: a narrative review of current applications.\n",
            "Authors: Peiffer-Smadja N, Rawson TM, Ahmad R, Buchard A, Georgiou P, Lescure FX, Birgand G, Holmes AH.\n",
            "Journal: Clin Microbiol Infect. 2020 May;26(5):584-595. doi: 10.1016/j.cmi.2019.09.009. Epub 2019 Sep 17.\n",
            "--------------------------------------------------\n",
            "Data saved to pubmed_scraped_articles.csv\n"
          ]
        }
      ],
      "source": [
        "# importing libraries\n",
        "import requests\n",
        "from bs4 import BeautifulSoup\n",
        "import csv\n",
        "\n",
        "# PubMed search URL\n",
        "url = \"https://pubmed.ncbi.nlm.nih.gov/?term=machine+learning\"\n",
        "\n",
        "# Send a GET request to the website\n",
        "response = requests.get(url)\n",
        "\n",
        "# Parse the HTML content\n",
        "soup = BeautifulSoup(response.content, \"html.parser\")\n",
        "\n",
        "# Find all article containers\n",
        "articles = soup.find_all(\"article\", class_=\"full-docsum\")\n",
        "\n",
        "# Open a CSV file to save data\n",
        "file = open(\"pubmed_scraped_articles.csv\", \"w\", newline=\"\", encoding=\"utf-8\")\n",
        "writer = csv.writer(file)\n",
        "writer.writerow([\"Title\", \"Authors\", \"Journal\"])\n",
        "\n",
        "# Extract and write article details\n",
        "for paper in articles:\n",
        "    # Extract title from <span> tag\n",
        "    title_tag = paper.find(\"a\", class_=\"docsum-title\")\n",
        "    # If the tag is not found, assign \"N/A\" as a default value to handle missing data.\n",
        "    title = title_tag.text.strip() if title_tag else \"N/A\"\n",
        "\n",
        "    # Extract authors\n",
        "    authors_tag = paper.find(\"span\", class_=\"docsum-authors\")\n",
        "    authors = authors_tag.text.strip() if authors_tag else \"N/A\"\n",
        "\n",
        "    # Extract journal and year\n",
        "    journal_tag = paper.find(\"span\", class_=\"docsum-journal-citation\")\n",
        "    journal = journal_tag.text.strip() if journal_tag else \"N/A\"\n",
        "\n",
        "    # Print extracted details for debugging\n",
        "    print(\"Title:\", title)\n",
        "    print(\"Authors:\", authors)\n",
        "    print(\"Journal:\", journal)\n",
        "    print(\"-\" * 50)\n",
        "\n",
        "    # Write the data to the CSV file\n",
        "    writer.writerow([title, authors, journal])\n",
        "\n",
        "# Close the CSV file\n",
        "file.close()\n",
        "print(\"Data saved to pubmed_scraped_articles.csv\")\n"
      ]
    }
  ]
}